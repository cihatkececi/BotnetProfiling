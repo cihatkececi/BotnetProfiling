{
 "cells": [
  {
   "cell_type": "markdown",
   "metadata": {},
   "source": [
    "# Feature Extraction\n",
    "\n",
    "Flow aggregation by a time window\n",
    "\n",
    "Generated features:\n",
    "* NumSrcPorts\n",
    "* NumDestAddr\n",
    "* NumDestPorts\n",
    "* NumFlows\n",
    "* NumBytes\n",
    "* NumPackets"
   ]
  },
  {
   "cell_type": "markdown",
   "metadata": {},
   "source": [
    "## Imports"
   ]
  },
  {
   "cell_type": "code",
   "execution_count": 28,
   "metadata": {},
   "outputs": [],
   "source": [
    "import numpy as np\n",
    "import pandas as pd\n",
    "from datetime import datetime\n",
    "import os\n",
    "import glob\n",
    "import time\n",
    "import matplotlib.pyplot as plt\n",
    "\n",
    "import sklearn\n",
    "from sklearn.linear_model import LogisticRegression\n",
    "from sklearn import metrics\n",
    "from sklearn.neighbors import KNeighborsClassifier\n",
    "from sklearn.model_selection import cross_val_score\n",
    "from sklearn.model_selection import train_test_split\n",
    "from sklearn import svm\n",
    "from sklearn.ensemble import RandomForestClassifier\n",
    "from sklearn import preprocessing\n",
    "\n",
    "import warnings\n",
    "\n",
    "import pickle\n",
    "\n",
    "warnings.filterwarnings(\"ignore\")"
   ]
  },
  {
   "cell_type": "markdown",
   "metadata": {},
   "source": [
    "## Functions"
   ]
  },
  {
   "cell_type": "code",
   "execution_count": 43,
   "metadata": {},
   "outputs": [],
   "source": [
    "def extract_features(input_df):\n",
    "    input_df['IsBotnet'] = input_df['Label'].apply(lambda x: 1 if \"flow=From-Botnet\" in x else 0)\n",
    "    \n",
    "    input_df.loc[:, \"StartTime\"] = pd.to_datetime(input_df.StartTime, format='%Y/%m/%d %H:%M:%S.%f')\n",
    "    input_df.sort_values(by=['StartTime'], inplace=True)\n",
    "    input_df.reset_index(drop=True, inplace=True)\n",
    "#     input_df.head()\n",
    "    \n",
    "    \n",
    "    # Determine the time windows\n",
    "    time_windows = [0]\n",
    "    for i in range(1, len(input_df)):\n",
    "        # Find the optimal time window duration\n",
    "        if (input_df[\"StartTime\"][i] - input_df[\"StartTime\"][time_windows[-1]]).seconds > 60:\n",
    "            time_windows.append(i)\n",
    "\n",
    "    time_windows.append(len(input_df)) # Added it for easier indexing             \n",
    "    \n",
    "    \n",
    "    # Determined column keys\n",
    "    column_keys = [\"NumSrcPorts\", \"NumDestAddr\", \"NumDestPorts\", \"NumFlows\", \"NumBytes\", \"NumPackets\", \"IsBotnet\"]\n",
    "    gen_df = pd.DataFrame(None, columns=column_keys)\n",
    "\n",
    "    print(len(time_windows))\n",
    "    \n",
    "    rnd_id = list(range(len(time_windows)-1))\n",
    "    np.random.shuffle(rnd_id)\n",
    "\n",
    "    # Generate the features for each time window\n",
    "    for i in range(len(time_windows)-1):\n",
    "        #print(str(i) + ' ', end='')\n",
    "        current_df = input_df.iloc[time_windows[i]:time_windows[i+1],:]\n",
    "        \n",
    "        if not(1 in current_df['IsBotnet'].values or i in rnd_id[:len(time_windows)//10]):\n",
    "            continue\n",
    "\n",
    "        group = current_df.groupby(\"SrcAddr\")\n",
    "\n",
    "        for address, addr_df in group:\n",
    "            is_botnet = addr_df['IsBotnet'].mode()[0]\n",
    "            \n",
    "            if (i not in rnd_id[:len(time_windows)//10] and is_botnet == 0):\n",
    "                continue\n",
    "                \n",
    "            # TODO: Optionally source ip address can be added\n",
    "#             print(address)\n",
    "\n",
    "            num_src_ports = len(addr_df.Sport.unique())\n",
    "\n",
    "            num_dest_addr = len(addr_df.DstAddr.unique())\n",
    "\n",
    "            num_dest_ports = len(addr_df.Dport.unique())\n",
    "\n",
    "            num_flows = len(addr_df)\n",
    "\n",
    "            # TODO: SrcBytes or TotBytes?\n",
    "            num_bytes = np.sum(addr_df.SrcBytes)\n",
    "\n",
    "            num_packets = np.sum(addr_df.TotPkts)\n",
    "            \n",
    "            \n",
    "            \n",
    "\n",
    "            curr_gen_df = pd.DataFrame([[num_src_ports, num_dest_addr, num_dest_ports, num_flows, num_bytes, num_packets, is_botnet]], columns=column_keys)\n",
    "            gen_df = gen_df.append(curr_gen_df, ignore_index=True)\n",
    "            \n",
    "    return gen_df\n",
    "\n",
    "\n",
    "def extract_features_all(data_path):\n",
    "    scenario_list = os.listdir(data_path)\n",
    "    print(scenario_list)\n",
    "\n",
    "    feat_list = []\n",
    "    \n",
    "    for scenario in scenario_list:\n",
    "        scenario_path = os.path.join(data_path, scenario)\n",
    "        \n",
    "        if os.path.isdir(scenario_path):\n",
    "            print(scenario)\n",
    "            flow_file_path = glob.glob(os.path.join(scenario_path, \"*.binetflow\"))[0]\n",
    "            \n",
    "            # Extract features for the current scenario\n",
    "            input_df = pd.read_csv(flow_file_path)\n",
    "            scenario_features = extract_features(input_df)\n",
    "            \n",
    "            p_filename = \"anomaly_cache/anomaly_scenario_features_\"+str(scenario)+\".p\"\n",
    "            pickle.dump( scenario_features, open( p_filename, \"wb\" ) )\n",
    "            \n",
    "            feat_list.append(scenario_features)\n",
    "    \n",
    "    return feat_list\n",
    "\n",
    "def load_pickle_data(scenario = -1):\n",
    "    if scenario == -1:\n",
    "        p_filename = \"anomaly_cache/anomaly_feat_list.p\"\n",
    "    else:\n",
    "        p_filename = \"anomaly_cache/anomaly_scenario_features_\"+str(scenario)+\".p\"\n",
    "        \n",
    "    return pickle.load(open(p_filename, \"rb\" ) )"
   ]
  },
  {
   "cell_type": "markdown",
   "metadata": {},
   "source": [
    "## Load and process data"
   ]
  },
  {
   "cell_type": "code",
   "execution_count": 9,
   "metadata": {},
   "outputs": [
    {
     "name": "stdout",
     "output_type": "stream",
     "text": [
      "['1', '10', '11', '12', '13', '2', '3', '4', '5', '6', '7', '8', '9']\n",
      "9\n",
      "311\n",
      "1 5 7 8 30 31 32 33 34 35 37 39 41 42 44 46 54 56 65 77 84 95 100 101 103 107 119 120 123 133 143 144 145 146 147 148 149 150 151 152 153 154 155 156 157 158 159 160 161 162 163 164 165 166 167 168 169 170 171 172 173 174 175 176 177 178 179 180 181 182 183 184 185 186 187 188 189 190 191 192 193 194 195 196 197 198 199 200 201 202 203 204 205 206 207 208 209 210 211 212 213 214 215 216 217 218 219 220 221 222 223 224 225 226 227 228 229 230 231 232 233 234 235 236 237 238 239 240 241 242 243 244 245 246 247 248 249 250 251 252 253 254 255 256 257 258 259 260 261 262 263 264 265 266 267 268 269 270 271 272 273 274 275 276 277 278 279 280 281 282 283 284 285 286 287 288 289 290 291 292 293 294 295 296 297 298 299 300 301 302 303 304 305 306 307 \n",
      "--- 384.1044192314148 seconds ---\n"
     ]
    },
    {
     "data": {
      "text/html": [
       "<div>\n",
       "<style scoped>\n",
       "    .dataframe tbody tr th:only-of-type {\n",
       "        vertical-align: middle;\n",
       "    }\n",
       "\n",
       "    .dataframe tbody tr th {\n",
       "        vertical-align: top;\n",
       "    }\n",
       "\n",
       "    .dataframe thead th {\n",
       "        text-align: right;\n",
       "    }\n",
       "</style>\n",
       "<table border=\"1\" class=\"dataframe\">\n",
       "  <thead>\n",
       "    <tr style=\"text-align: right;\">\n",
       "      <th></th>\n",
       "      <th>NumSrcPorts</th>\n",
       "      <th>NumDestAddr</th>\n",
       "      <th>NumDestPorts</th>\n",
       "      <th>NumFlows</th>\n",
       "      <th>NumBytes</th>\n",
       "      <th>NumPackets</th>\n",
       "      <th>IsBotnet</th>\n",
       "    </tr>\n",
       "  </thead>\n",
       "  <tbody>\n",
       "    <tr>\n",
       "      <th>0</th>\n",
       "      <td>1</td>\n",
       "      <td>1</td>\n",
       "      <td>1</td>\n",
       "      <td>1</td>\n",
       "      <td>107</td>\n",
       "      <td>2</td>\n",
       "      <td>0</td>\n",
       "    </tr>\n",
       "    <tr>\n",
       "      <th>1</th>\n",
       "      <td>1</td>\n",
       "      <td>1</td>\n",
       "      <td>1</td>\n",
       "      <td>1</td>\n",
       "      <td>469</td>\n",
       "      <td>2</td>\n",
       "      <td>0</td>\n",
       "    </tr>\n",
       "    <tr>\n",
       "      <th>2</th>\n",
       "      <td>1</td>\n",
       "      <td>1</td>\n",
       "      <td>1</td>\n",
       "      <td>1</td>\n",
       "      <td>152</td>\n",
       "      <td>4</td>\n",
       "      <td>0</td>\n",
       "    </tr>\n",
       "    <tr>\n",
       "      <th>3</th>\n",
       "      <td>1</td>\n",
       "      <td>1</td>\n",
       "      <td>1</td>\n",
       "      <td>1</td>\n",
       "      <td>60</td>\n",
       "      <td>4</td>\n",
       "      <td>0</td>\n",
       "    </tr>\n",
       "    <tr>\n",
       "      <th>4</th>\n",
       "      <td>1</td>\n",
       "      <td>1</td>\n",
       "      <td>1</td>\n",
       "      <td>1</td>\n",
       "      <td>454</td>\n",
       "      <td>2</td>\n",
       "      <td>0</td>\n",
       "    </tr>\n",
       "  </tbody>\n",
       "</table>\n",
       "</div>"
      ],
      "text/plain": [
       "  NumSrcPorts NumDestAddr NumDestPorts NumFlows NumBytes NumPackets IsBotnet\n",
       "0           1           1            1        1      107          2        0\n",
       "1           1           1            1        1      469          2        0\n",
       "2           1           1            1        1      152          4        0\n",
       "3           1           1            1        1       60          4        0\n",
       "4           1           1            1        1      454          2        0"
      ]
     },
     "execution_count": 9,
     "metadata": {},
     "output_type": "execute_result"
    }
   ],
   "source": [
    "DATA_PATH = os.path.join(\"..\", \"Project\\ctu-13\")\n",
    "\n",
    "start_time = time.time()\n",
    "feat_list = extract_features_all(DATA_PATH)\n",
    "pickle.dump( feat_list, open( \"anomaly_cache/anomaly_feat_list.p\", \"wb\" ) )\n",
    "\n",
    "print()\n",
    "print(\"--- %s seconds ---\" % (time.time() - start_time))\n",
    "gen_feat_df9.head()"
   ]
  },
  {
   "cell_type": "markdown",
   "metadata": {},
   "source": [
    "# Machine Learning Models"
   ]
  },
  {
   "cell_type": "markdown",
   "metadata": {},
   "source": [
    "## Generate test and train sets"
   ]
  },
  {
   "cell_type": "code",
   "execution_count": 44,
   "metadata": {},
   "outputs": [
    {
     "name": "stdout",
     "output_type": "stream",
     "text": [
      "Feature Counts\n",
      "\n",
      "num\ttrain\ttest\ttotal\n",
      "------------------------------\n",
      "0\t26658\t1303\t27961\n",
      "1\t1382\t120\t1502\n",
      "------------------------------\n",
      "total:\t28040\t1423\t29463\n"
     ]
    }
   ],
   "source": [
    "# Learn some scenarios then test on other scenarios\n",
    "\n",
    "X_train, y_train = gen_feat_df9.iloc[:, range(0, 6)].values, gen_feat_df9.iloc[:, 6].values\n",
    "X_test, y_test = gen_feat_df6.iloc[:, range(0, 6)].values, gen_feat_df6.iloc[:, 6].values\n",
    "\n",
    "y_train = y_train.astype(int)\n",
    "y_test = y_test.astype(int)\n",
    "\n",
    "# Feature Counts\n",
    "print(\"Feature Counts\\n\")\n",
    "print(\"num\\ttrain\\ttest\\ttotal\")\n",
    "print(\"-\" * 30)\n",
    "for i in range(0, 2):\n",
    "    print(\"{0}\\t{1}\\t{2}\\t{3}\".format(i, np.count_nonzero(y_train==i), np.count_nonzero(y_test==i), np.count_nonzero(y_train==i)+np.count_nonzero(y_test==i)))\n",
    "print(\"-\" * 30)\n",
    "print(\"total:\\t{0}\\t{1}\\t{2}\".format(len(y_train), len(y_test), len(y_train)+len(y_test)))"
   ]
  },
  {
   "cell_type": "code",
   "execution_count": 15,
   "metadata": {},
   "outputs": [
    {
     "name": "stdout",
     "output_type": "stream",
     "text": [
      "Feature Counts\n",
      "\n",
      "num\ttrain\ttest\ttotal\n",
      "------------------------------\n",
      "0\t911\t392\t1303\n",
      "1\t85\t35\t120\n",
      "------------------------------\n",
      "total:\t996\t427\t1423\n"
     ]
    }
   ],
   "source": [
    "# Classic\n",
    "# Generate test and train sets\n",
    "X = gen_feat_df6.iloc[:, range(0, 6)].values\n",
    "y = gen_feat_df6.iloc[:, 6].values\n",
    "y = y.astype(int)\n",
    "\n",
    "X_train, X_test, y_train, y_test = train_test_split(X, y, test_size = .3, random_state=25)\n",
    "\n",
    "# Feature Counts\n",
    "print(\"Feature Counts\\n\")\n",
    "print(\"num\\ttrain\\ttest\\ttotal\")\n",
    "print(\"-\" * 30)\n",
    "for i in range(0, 2):\n",
    "    print(\"{0}\\t{1}\\t{2}\\t{3}\".format(i, np.count_nonzero(y_train==i), np.count_nonzero(y_test==i), np.count_nonzero(y==i)))\n",
    "print(\"-\" * 30)\n",
    "print(\"total:\\t{0}\\t{1}\\t{2}\".format(len(y_train), len(y_test), len(y)))"
   ]
  },
  {
   "cell_type": "markdown",
   "metadata": {},
   "source": [
    "### Scale data"
   ]
  },
  {
   "cell_type": "code",
   "execution_count": 20,
   "metadata": {},
   "outputs": [],
   "source": [
    "scaler = preprocessing.StandardScaler().fit(X_train)\n",
    "X_train = scaler.transform(X_train)\n",
    "X_test = scaler.transform(X_test)"
   ]
  },
  {
   "cell_type": "markdown",
   "metadata": {},
   "source": [
    "## Evaluation Functions"
   ]
  },
  {
   "cell_type": "code",
   "execution_count": 21,
   "metadata": {},
   "outputs": [],
   "source": [
    "def print_results():\n",
    "    print(\"\\nAccuracy:\")\n",
    "    print(metrics.accuracy_score(y_test, y_pred))\n",
    "    \n",
    "    print(\"\\nClassification report:\")\n",
    "    print(metrics.classification_report(y_test, y_pred))\n",
    "    \n",
    "    print(\"\\nConfusion Matrix:\")\n",
    "    print(metrics.confusion_matrix(y_test, y_pred))"
   ]
  },
  {
   "cell_type": "markdown",
   "metadata": {},
   "source": [
    "## Logistic Regression"
   ]
  },
  {
   "cell_type": "code",
   "execution_count": 22,
   "metadata": {},
   "outputs": [
    {
     "name": "stdout",
     "output_type": "stream",
     "text": [
      "\n",
      "Accuracy:\n",
      "0.9241040056219255\n",
      "\n",
      "Classification report:\n",
      "             precision    recall  f1-score   support\n",
      "\n",
      "          0       0.92      1.00      0.96      1303\n",
      "          1       0.88      0.12      0.21       120\n",
      "\n",
      "avg / total       0.92      0.92      0.90      1423\n",
      "\n",
      "\n",
      "Confusion Matrix:\n",
      "[[1301    2]\n",
      " [ 106   14]]\n"
     ]
    }
   ],
   "source": [
    "log_regression = LogisticRegression()\n",
    "\n",
    "# Train the classifier\n",
    "log_regression.fit(X_train, y_train)\n",
    "\n",
    "# Predict\n",
    "y_pred = log_regression.predict(X_test)\n",
    "\n",
    "print_results()"
   ]
  },
  {
   "cell_type": "markdown",
   "metadata": {},
   "source": [
    "## KNN\n",
    "Tries for different k values and prints the metrics for the k value with the best accuracy"
   ]
  },
  {
   "cell_type": "code",
   "execution_count": 24,
   "metadata": {},
   "outputs": [
    {
     "name": "stdout",
     "output_type": "stream",
     "text": [
      "Results for k=19\n",
      "\n",
      "Accuracy:\n",
      "0.9936753338018272\n",
      "\n",
      "Classification report:\n",
      "             precision    recall  f1-score   support\n",
      "\n",
      "          0       0.99      1.00      1.00      1303\n",
      "          1       0.98      0.94      0.96       120\n",
      "\n",
      "avg / total       0.99      0.99      0.99      1423\n",
      "\n",
      "\n",
      "Confusion Matrix:\n",
      "[[1301    2]\n",
      " [   7  113]]\n"
     ]
    },
    {
     "data": {
      "image/png": "[encoded data removed]",
      "text/plain": [
       "<matplotlib.figure.Figure at 0x22dcbe2fa90>"
      ]
     },
     "metadata": {},
     "output_type": "display_data"
    }
   ],
   "source": [
    "acc_vals = []\n",
    "k_vals = []\n",
    "pred_vals = []\n",
    "\n",
    "for i in range(20):\n",
    "    k = 2*i+1\n",
    "    knn = KNeighborsClassifier(n_neighbors=k)\n",
    "\n",
    "    knn.fit(X_train, y_train)\n",
    "\n",
    "    y_pred = knn.predict(X_test)\n",
    "    \n",
    "    acc_vals.append(metrics.accuracy_score(y_test, y_pred))\n",
    "    k_vals.append(k)\n",
    "    pred_vals.append(y_pred)\n",
    "\n",
    "# print_results()\n",
    "plt.plot(k_vals, acc_vals)\n",
    "plt.title(\"Accuracy vs. k values\")\n",
    "plt.xlabel(\"k\")\n",
    "plt.ylabel(\"Accuracy\")\n",
    "plt.grid(True)\n",
    "\n",
    "# Plot the results for best k value\n",
    "i_max_acc = acc_vals.index(max(acc_vals))\n",
    "print(\"Results for k={0}\".format(2*i_max_acc+1))\n",
    "\n",
    "y_pred = pred_vals[i_max_acc]\n",
    "print_results()"
   ]
  },
  {
   "cell_type": "markdown",
   "metadata": {},
   "source": [
    "## 10-fold KNN"
   ]
  },
  {
   "cell_type": "code",
   "execution_count": 325,
   "metadata": {},
   "outputs": [
    {
     "name": "stderr",
     "output_type": "stream",
     "text": [
      "C:\\Users\\Burki\\Anaconda3\\lib\\site-packages\\sklearn\\model_selection\\_split.py:605: Warning: The least populated class in y has only 2 members, which is too few. The minimum number of members in any class cannot be less than n_splits=10.\n",
      "  % (min_groups, self.n_splits)), Warning)\n"
     ]
    },
    {
     "name": "stdout",
     "output_type": "stream",
     "text": [
      "Accuracy: 0.84 (+/- 0.02)\n"
     ]
    }
   ],
   "source": [
    "knn = KNeighborsClassifier(n_neighbors=k)\n",
    "scores = cross_val_score(knn, X_train, y_train, cv=10)\n",
    "\n",
    "print(\"Accuracy: %0.2f (+/- %0.2f)\" % (scores.mean(), scores.std() * 2))"
   ]
  },
  {
   "cell_type": "markdown",
   "metadata": {},
   "source": [
    "## 10-fold Logistic Regression"
   ]
  },
  {
   "cell_type": "code",
   "execution_count": 326,
   "metadata": {},
   "outputs": [
    {
     "name": "stderr",
     "output_type": "stream",
     "text": [
      "C:\\Users\\Burki\\Anaconda3\\lib\\site-packages\\sklearn\\model_selection\\_split.py:605: Warning: The least populated class in y has only 2 members, which is too few. The minimum number of members in any class cannot be less than n_splits=10.\n",
      "  % (min_groups, self.n_splits)), Warning)\n"
     ]
    },
    {
     "name": "stdout",
     "output_type": "stream",
     "text": [
      "Accuracy: 0.71 (+/- 0.02)\n"
     ]
    }
   ],
   "source": [
    "log_reg = LogisticRegression()\n",
    "scores = cross_val_score(log_reg, X_train, y_train, cv=10)\n",
    "\n",
    "print(\"Accuracy: %0.2f (+/- %0.2f)\" % (scores.mean(), scores.std() * 2))"
   ]
  },
  {
   "cell_type": "markdown",
   "metadata": {},
   "source": [
    "## SVM"
   ]
  },
  {
   "cell_type": "code",
   "execution_count": 25,
   "metadata": {},
   "outputs": [
    {
     "name": "stdout",
     "output_type": "stream",
     "text": [
      "\n",
      "Accuracy:\n",
      "0.9936753338018272\n",
      "\n",
      "Classification report:\n",
      "             precision    recall  f1-score   support\n",
      "\n",
      "          0       0.99      1.00      1.00      1303\n",
      "          1       0.99      0.93      0.96       120\n",
      "\n",
      "avg / total       0.99      0.99      0.99      1423\n",
      "\n",
      "\n",
      "Confusion Matrix:\n",
      "[[1302    1]\n",
      " [   8  112]]\n"
     ]
    }
   ],
   "source": [
    "svm_clf = svm.SVC(kernel='rbf', C=5)\n",
    "\n",
    "svm_clf.fit(X_train, y_train)\n",
    "\n",
    "y_pred = svm_clf.predict(X_test)\n",
    "\n",
    "print_results()"
   ]
  },
  {
   "cell_type": "markdown",
   "metadata": {},
   "source": [
    "## Random Forest"
   ]
  },
  {
   "cell_type": "code",
   "execution_count": 26,
   "metadata": {},
   "outputs": [
    {
     "name": "stdout",
     "output_type": "stream",
     "text": [
      "\n",
      "Accuracy:\n",
      "0.9873506676036542\n",
      "\n",
      "Classification report:\n",
      "             precision    recall  f1-score   support\n",
      "\n",
      "          0       0.99      1.00      0.99      1303\n",
      "          1       0.97      0.88      0.92       120\n",
      "\n",
      "avg / total       0.99      0.99      0.99      1423\n",
      "\n",
      "\n",
      "Confusion Matrix:\n",
      "[[1300    3]\n",
      " [  15  105]]\n"
     ]
    }
   ],
   "source": [
    "rand_forest_clf = RandomForestClassifier(n_estimators=10, bootstrap=False)\n",
    "\n",
    "rand_forest_clf.fit(X_train, y_train)\n",
    "\n",
    "y_pred = rand_forest_clf.predict(X_test)\n",
    "\n",
    "print_results()"
   ]
  },
  {
   "cell_type": "code",
   "execution_count": 79,
   "metadata": {},
   "outputs": [
    {
     "data": {
      "text/html": [
       "<div>\n",
       "<style scoped>\n",
       "    .dataframe tbody tr th:only-of-type {\n",
       "        vertical-align: middle;\n",
       "    }\n",
       "\n",
       "    .dataframe tbody tr th {\n",
       "        vertical-align: top;\n",
       "    }\n",
       "\n",
       "    .dataframe thead th {\n",
       "        text-align: right;\n",
       "    }\n",
       "</style>\n",
       "<table border=\"1\" class=\"dataframe\">\n",
       "  <thead>\n",
       "    <tr style=\"text-align: right;\">\n",
       "      <th></th>\n",
       "      <th>Features</th>\n",
       "      <th>Importance</th>\n",
       "    </tr>\n",
       "  </thead>\n",
       "  <tbody>\n",
       "    <tr>\n",
       "      <th>0</th>\n",
       "      <td>NumSrcPorts</td>\n",
       "      <td>0.074</td>\n",
       "    </tr>\n",
       "    <tr>\n",
       "      <th>1</th>\n",
       "      <td>NumDestAddr</td>\n",
       "      <td>0.082</td>\n",
       "    </tr>\n",
       "    <tr>\n",
       "      <th>2</th>\n",
       "      <td>NumDestPorts</td>\n",
       "      <td>0.077</td>\n",
       "    </tr>\n",
       "    <tr>\n",
       "      <th>3</th>\n",
       "      <td>NumFlows</td>\n",
       "      <td>0.057</td>\n",
       "    </tr>\n",
       "    <tr>\n",
       "      <th>4</th>\n",
       "      <td>NumBytes</td>\n",
       "      <td>0.461</td>\n",
       "    </tr>\n",
       "    <tr>\n",
       "      <th>5</th>\n",
       "      <td>NumPackets</td>\n",
       "      <td>0.249</td>\n",
       "    </tr>\n",
       "  </tbody>\n",
       "</table>\n",
       "</div>"
      ],
      "text/plain": [
       "       Features Importance\n",
       "0   NumSrcPorts      0.074\n",
       "1   NumDestAddr      0.082\n",
       "2  NumDestPorts      0.077\n",
       "3      NumFlows      0.057\n",
       "4      NumBytes      0.461\n",
       "5    NumPackets      0.249"
      ]
     },
     "execution_count": 79,
     "metadata": {},
     "output_type": "execute_result"
    }
   ],
   "source": [
    "importances = np.round(rand_forest_clf.feature_importances_, 3)\n",
    "features = list(gen_feat_df.columns[:-1])\n",
    "pd.DataFrame(np.array([features, importances]).T, columns=['Features', 'Importance'])"
   ]
  },
  {
   "cell_type": "code",
   "execution_count": 213,
   "metadata": {},
   "outputs": [
    {
     "name": "stderr",
     "output_type": "stream",
     "text": [
      "C:\\Users\\Burki\\Anaconda3\\lib\\site-packages\\sklearn\\tree\\export.py:399: DeprecationWarning: out_file can be set to None starting from 0.18. This will be the default in 0.20.\n",
      "  DeprecationWarning)\n"
     ]
    },
    {
     "data": {
      "text/plain": [
       "0"
      ]
     },
     "execution_count": 213,
     "metadata": {},
     "output_type": "execute_result"
    }
   ],
   "source": [
    "#https://stats.stackexchange.com/questions/130206/sklearn-tree-export-graphviz-values-do-not-add-up-to-samples\n",
    "\n",
    "from sklearn.tree import export_graphviz\n",
    "\n",
    "feature_names = gen_feat_df.columns[:-1]\n",
    "class_names = [str(i) for i in rand_forest_clf.classes_]\n",
    "\n",
    "export_graphviz(rand_forest_clf.estimators_[0],\n",
    "                feature_names=feature_names,\n",
    "                class_names=class_names,\n",
    "                filled=True,\n",
    "                rounded=True)\n",
    "\n",
    "os.system('dot -Tpng tree.dot -o tree.png')"
   ]
  },
  {
   "cell_type": "markdown",
   "metadata": {},
   "source": [
    "## 10-fold Random Forest"
   ]
  },
  {
   "cell_type": "code",
   "execution_count": 101,
   "metadata": {},
   "outputs": [
    {
     "name": "stdout",
     "output_type": "stream",
     "text": [
      "Accuracy: 0.98 (+/- 0.01)\n"
     ]
    }
   ],
   "source": [
    "rand_forest_clf = RandomForestClassifier(n_estimators=10)\n",
    "\n",
    "scores = cross_val_score(rand_forest_clf, X_train, y_train, cv=10)\n",
    "\n",
    "print(\"Accuracy: %0.2f (+/- %0.2f)\" % (scores.mean(), scores.std() * 2))"
   ]
  }
 ],
 "metadata": {
  "kernelspec": {
   "display_name": "Python 3",
   "language": "python",
   "name": "python3"
  },
  "language_info": {
   "codemirror_mode": {
    "name": "ipython",
    "version": 3
   },
   "file_extension": ".py",
   "mimetype": "text/x-python",
   "name": "python",
   "nbconvert_exporter": "python",
   "pygments_lexer": "ipython3",
   "version": "3.6.4"
  }
 },
 "nbformat": 4,
 "nbformat_minor": 2
}
